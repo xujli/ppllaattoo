{
  "nbformat": 4,
  "nbformat_minor": 0,
  "metadata": {
    "colab": {
      "name": "plato_colab.ipynb",
      "provenance": [],
      "collapsed_sections": [],
      "toc_visible": true
    },
    "kernelspec": {
      "name": "python3",
      "display_name": "Python 3"
    },
    "language_info": {
      "name": "python"
    },
    "accelerator": "GPU"
  },
  "cells": [
    {
      "cell_type": "markdown",
      "metadata": {
        "id": "olul0mnbnLoL"
      },
      "source": [
        "# Running Plato in Google's Colab Notebooks"
      ]
    },
    {
      "cell_type": "markdown",
      "metadata": {
        "id": "06Ua9IDYgnt6"
      },
      "source": [
        "## 1. Preparation\n",
        "\n",
        "### Use Chrome broswer\n",
        "\n",
        "Since Colab is a product from Google, to take the most advantage of it, Chrome is the most recommended broswer here."
      ]
    },
    {
      "cell_type": "markdown",
      "metadata": {
        "id": "825aAsBKg0Sx"
      },
      "source": [
        "### Activating GPU support\n",
        "\n",
        "If you need GPU support in your project, you may activate it in Google Colab by clicking on `Runtime > Change runtime type` in the notebook menu and choosing `GPU` as the hardware accelerator. To check whether the GPU is available for computation, we import the deep learning framework [PyTorch](https://pytorch.org/):"
      ]
    },
    {
      "cell_type": "code",
      "metadata": {
        "id": "2RB_ZJrZmugO"
      },
      "source": [
        "import torch\n",
        "torch.cuda.is_available()"
      ],
      "execution_count": null,
      "outputs": []
    },
    {
      "cell_type": "markdown",
      "metadata": {
        "id": "SkkBTKHtuTVy"
      },
      "source": [
        "If successful, the output of the cell above should print `True`.\n",
        "\n",
        "Also, if you have purchased Colab Pro, choose `High-RAM` under `Runtime shape` after clicking on `Runtime > Change runtime type`. This will double the amount of RAM from 12.72 GB to 25.52 GB.\n",
        "\n",
        "### Use Google Drive\n",
        "\n",
        "Since Google Colab removes all the files that you have downloaded or created when you end a session, the best option is to use GitHub to store your code, and Google Drive to store your datasets, logs, and anything else that would normally reside on your filesystem but wouldn’t be tracked by a git repo.\n",
        "\n",
        "When you run the code below, you will need to click a link and follow a process that takes a few seconds. When the process is complete, all of your drive files will be available via ‘/root/drive’ on your Colab instance, and this will allow you to structure your projects in the same way you would if you were using a cloud server."
      ]
    },
    {
      "cell_type": "code",
      "metadata": {
        "id": "z5gW8LQivFHs"
      },
      "source": [
        "from google.colab import drive\n",
        "drive.mount('/content/drive')\n",
        "root_path = '/content/drive/My\\ Drive'\n",
        "%cd $root_path"
      ],
      "execution_count": null,
      "outputs": []
    },
    {
      "cell_type": "markdown",
      "metadata": {
        "id": "5xlN-jMfoEpp"
      },
      "source": [
        "## 2. Installing Plato\n",
        "\n",
        "If you wish to conduct git command like `git pull` or `git push` via this notebook in the future, please set git configuration values first. If not, you may skip the next cell and directly clone Plato's public git repository. "
      ]
    },
    {
      "cell_type": "code",
      "metadata": {
        "id": "um4xyg_BaNVy"
      },
      "source": [
        "!git config --global user.name '$your git username'\n",
        "!git config --global user.email '$your email'"
      ],
      "execution_count": null,
      "outputs": []
    },
    {
      "cell_type": "markdown",
      "metadata": {
        "id": "2iKIiH7AbuYm"
      },
      "source": [
        "Clone Plato's public git repository on GitHub to your Google drive."
      ]
    },
    {
      "cell_type": "code",
      "metadata": {
        "id": "P175hLMavyOg"
      },
      "source": [
        "!git clone https://github.com/TL-System/plato"
      ],
      "execution_count": null,
      "outputs": []
    },
    {
      "cell_type": "markdown",
      "metadata": {
        "id": "cTfvXkYC1j45"
      },
      "source": [
        "Get into the `plato` directory:"
      ]
    },
    {
      "cell_type": "code",
      "metadata": {
        "id": "oW6q5XWi1v4i"
      },
      "source": [
        "!chmod -R ugo+rx $root_path/plato/run\n",
        "%cd $root_path/plato/"
      ],
      "execution_count": null,
      "outputs": []
    },
    {
      "cell_type": "markdown",
      "metadata": {
        "id": "kleimBRbbPMf"
      },
      "source": [
        "Install Plato as a pip package:"
      ]
    },
    {
      "cell_type": "code",
      "metadata": {
        "id": "urh4nYGbbL_o"
      },
      "source": [
        "!pip install ."
      ],
      "execution_count": null,
      "outputs": []
    },
    {
      "cell_type": "markdown",
      "metadata": {
        "id": "DdjnhRWPdcRI"
      },
      "source": [
        "In the future, if you find the remote git repository is updated, you can update the local version on your Google Drive by running"
      ]
    },
    {
      "cell_type": "code",
      "metadata": {
        "id": "R0OuwEG7Z3Xt"
      },
      "source": [
        "!git pull"
      ],
      "execution_count": null,
      "outputs": []
    },
    {
      "cell_type": "markdown",
      "metadata": {
        "id": "OtK_o5gGd0-S"
      },
      "source": [
        "Then reinstall Plato as a pip package again. Make sure `plato-learning` is the latest version, i.e., the version number is the same as `/plato/__init__.py`\n",
        "\n"
      ]
    },
    {
      "cell_type": "code",
      "metadata": {
        "id": "DJbALugpdsyl"
      },
      "source": [
        "!pip install ."
      ],
      "execution_count": null,
      "outputs": []
    },
    {
      "cell_type": "markdown",
      "metadata": {
        "id": "WiuCCtu7hFsR"
      },
      "source": [
        "## 3. Running Plato"
      ]
    },
    {
      "cell_type": "markdown",
      "metadata": {
        "id": "YKRnIwDPZd9C"
      },
      "source": [
        "### Make sure you don’t get disconnected\n",
        "\n",
        "Run the following cell when you plan to do a long training to avoid getting disconnected in the middle of it."
      ]
    },
    {
      "cell_type": "code",
      "metadata": {
        "id": "GRemJcsAM65-"
      },
      "source": [
        "%%javascript\n",
        "function ClickConnect(){\n",
        "console.log(\"Working\");\n",
        "document.querySelector(\"colab-toolbar-button#connect\").click()\n",
        "}setInterval(ClickConnect,60000)"
      ],
      "execution_count": null,
      "outputs": []
    },
    {
      "cell_type": "markdown",
      "metadata": {
        "id": "sDhjrvbZ6NC_"
      },
      "source": [
        "**Note:** Please use this responsibly. Getting booted from Colab is very annoying, but it is done to make resources available for others when you’re not actively using them. \n"
      ]
    },
    {
      "cell_type": "markdown",
      "metadata": {
        "id": "fPsxX4AtgviS"
      },
      "source": [
        "### Setting up Weights and Biases\n",
        "\n",
        "Support for logging using Weights and Biases (https://wandb.com) is built-in. It will prompt you to enter your key when starting your first run. If you don't wish to use Weights and Biases, set it to `offline`:"
      ]
    },
    {
      "cell_type": "code",
      "metadata": {
        "id": "vDYM4bSZhNAK"
      },
      "source": [
        "!wandb offline"
      ],
      "execution_count": null,
      "outputs": []
    },
    {
      "cell_type": "markdown",
      "metadata": {
        "id": "mlmSKKaSk6P3"
      },
      "source": [
        "### Running Plato in the Colab notebook\n",
        "\n",
        "To start a federated learning training workload, run `run` from Plato's home directory. For example:"
      ]
    },
    {
      "cell_type": "code",
      "metadata": {
        "id": "ivm8dSigaV7Y"
      },
      "source": [
        "!./run -s 127.0.0.1:8000 -c ./configs/MNIST/fedavg_lenet5.yml"
      ],
      "execution_count": null,
      "outputs": []
    },
    {
      "cell_type": "markdown",
      "metadata": {
        "id": "Jv1jzv0Ynd17"
      },
      "source": [
        "Here, `fedavg_lenet5.yml` is a sample configuration file that uses Federated Averaging as the federated learning algorithm, and LeNet5 as the model. Other configuration files under `plato/configs/` could also be used here.\n",
        "\n",
        "\n"
      ]
    },
    {
      "cell_type": "markdown",
      "metadata": {
        "id": "G1RsvvL4z2Op"
      },
      "source": [
        "### Running Plato in a terminal\n",
        "\n",
        "It is strongly recommended and more convenient to run Plato in a terminal, preferably in Visual Studio Code. To do this, first sign up for a free account in [ngrok](https://ngrok.com), and then use your authentication token and your account password in the following code:"
      ]
    },
    {
      "cell_type": "code",
      "metadata": {
        "id": "vEzzDEmu1lk1"
      },
      "source": [
        "!pip install colab_ssh --upgrade"
      ],
      "execution_count": null,
      "outputs": []
    },
    {
      "cell_type": "code",
      "metadata": {
        "id": "hF-MuCFbcPWh"
      },
      "source": [
        "from getpass import getpass\n",
        "ngrok_token = getpass('Your authentication token: ')\n",
        "password = getpass('The SSH password that you want to set: ')\n",
        "\n",
        "from colab_ssh import launch_ssh, init_git\n",
        "launch_ssh(ngrok_token, password)"
      ],
      "execution_count": null,
      "outputs": []
    },
    {
      "cell_type": "markdown",
      "metadata": {
        "id": "MMBgF6Nr16r6"
      },
      "source": [
        "`launch_ssh` will produce an SSH configuration for you to add to your Visual Studio Code setup, so that you can use **Remote-SSH: Connect to Host...** in Visual Studio Code to connect to this Colab instance. After your SSH connection is setup, you can use your instance just like any other remote virtual machine in the cloud. Detailed steps are:\n",
        "\n",
        "1. Install the `Remote-SSH: Editing Configuration Files` extension in Visual Studio Code.\n",
        "\n",
        "2. In Visual Studio Code, click on `View > Command Palette` in the menu (or use `Shift+Command+P`), and type `Remote-SSH: Add New SSH Host...`. It will ask you to enter SSH Connection Command. Enter `root@google_colab_ssh`. Then select `/Users/<your username>/.ssh/config` when it asks you to select SSH configuration file to update.\n",
        "\n",
        "3. Copy the configuration information you get after running the above cell into the selected SSH configuration file. The configuration information should be similar to\n",
        "```\n",
        "Host google_colab_ssh\n",
        "\t\tHostName X.tcp.ngrok.io\n",
        "\t\tUser root\n",
        "\t\tPort XXXXX\n",
        "```\n",
        "Then save this configuration file.\n",
        "\n",
        "4. Click on `View > Command Palette` again and type `Remote-SSH: Connect to Host...`. You should see the host `google_colab_ssh` you just added. Click it and Visual Studio will automatically open a new window for you, and prompt for the SSH password you set.\n",
        "\n",
        "5. Enter your SSH password and you will be connected to the remote.\n",
        "\n",
        "6. Open folder `/content/drive/MyDrive/plato/` and you are all set."
      ]
    }
  ]
}