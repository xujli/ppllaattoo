{
  "nbformat": 4,
  "nbformat_minor": 0,
  "metadata": {
    "colab": {
      "name": "Use terminal.ipynb",
      "provenance": [],
      "collapsed_sections": [],
      "toc_visible": true
    },
    "kernelspec": {
      "name": "python3",
      "display_name": "Python 3"
    },
    "language_info": {
      "name": "python"
    }
  },
  "cells": [
    {
      "cell_type": "markdown",
      "metadata": {
        "id": "G1RsvvL4z2Op"
      },
      "source": [
        "# Running Plato in a terminal with less trouble\n",
        "\n",
        "It is strongly recommended and more convenient to run Plato in a terminal, preferably in Visual Studio Code. However, each time when you connect to a remote virtual machine of Colab, most likely it will be a new one and you need to set conda environment again. This notebook can help you avoid some repetitive and tedious settings. \n",
        "\n"
      ]
    },
    {
      "cell_type": "markdown",
      "metadata": {
        "id": "-hdWXk5S8XQp"
      },
      "source": [
        "# First time\n",
        "\n",
        "When you run Plato on Colab for the first time, please do the following steps.\n",
        "\n"
      ]
    },
    {
      "cell_type": "markdown",
      "metadata": {
        "id": "SkkBTKHtuTVy"
      },
      "source": [
        "## 1. Install Plato on Google Drive\n",
        "\n",
        "Since Google Colab removes all the files that you have downloaded or created when you end a session, the best option is to use GitHub to store your code, and Google Drive to store your datasets, logs, and anything else that would normally reside on your filesystem but wouldn’t be tracked by a git repo.\n",
        "\n",
        "When you run the code below, you will need to click a link and follow a process that takes a few seconds. When the process is complete, all of your drive files will be available via ‘/root/drive’ on your Colab instance, and this will allow you to structure your projects in the same way you would if you were using a cloud server."
      ]
    },
    {
      "cell_type": "code",
      "metadata": {
        "id": "z5gW8LQivFHs"
      },
      "source": [
        "from google.colab import drive\n",
        "drive.mount('/content/drive')\n",
        "root_path = '/content/drive/My\\ Drive'\n",
        "%cd $root_path"
      ],
      "execution_count": null,
      "outputs": []
    },
    {
      "cell_type": "markdown",
      "metadata": {
        "id": "5xlN-jMfoEpp"
      },
      "source": [
        "\n",
        "\n",
        "Clone Plato's public git repository on GitHub to your Google drive. "
      ]
    },
    {
      "cell_type": "code",
      "metadata": {
        "id": "P175hLMavyOg"
      },
      "source": [
        "!git clone https://github.com/TL-System/plato"
      ],
      "execution_count": null,
      "outputs": []
    },
    {
      "cell_type": "markdown",
      "metadata": {
        "id": "cTfvXkYC1j45"
      },
      "source": [
        "Get into the `plato` directory:"
      ]
    },
    {
      "cell_type": "code",
      "metadata": {
        "id": "oW6q5XWi1v4i"
      },
      "source": [
        "!chmod -R ugo+rx $root_path/plato/run\n",
        "%cd $root_path/plato/"
      ],
      "execution_count": null,
      "outputs": []
    },
    {
      "cell_type": "markdown",
      "metadata": {
        "id": "exlQPjof-lZ4"
      },
      "source": [
        "## 2. Connect to the remote\n",
        "\n",
        "Sign up for a free account in [ngrok](https://ngrok.com) if you haven't, and then use your authentication token and your account password in the following code:"
      ]
    },
    {
      "cell_type": "code",
      "metadata": {
        "id": "vEzzDEmu1lk1"
      },
      "source": [
        "!pip install colab_ssh --upgrade\n",
        "\n",
        "from getpass import getpass\n",
        "ngrok_token = getpass('Your authentication token: ')\n",
        "password = getpass('The SSH password that you want to set (optional): ')\n",
        "\n",
        "from colab_ssh import launch_ssh, init_git\n",
        "launch_ssh(ngrok_token, password)"
      ],
      "execution_count": null,
      "outputs": []
    },
    {
      "cell_type": "markdown",
      "metadata": {
        "id": "MMBgF6Nr16r6"
      },
      "source": [
        "`launch_ssh` will produce an SSH configuration for you to add to your Visual Studio Code setup, so that you can use **Remote-SSH: Connect to Host...** in Visual Studio Code to connect to this Colab instance. After your SSH connection is setup, you can use your instance just like any other remote virtual machine in the cloud. Detailed steps are:\n",
        "\n",
        "1. Install the `Remote-SSH: Editing Configuration Files` extension in Visual Studio Code.\n",
        "\n",
        "2. In Visual Studio Code, click on `View > Command Palette` in the menu (or use `Shift+Command+P`), and type `Remote-SSH: Add New SSH Host...`. It will ask you to enter SSH Connection Command. Enter `root@google_colab_ssh`.\n",
        "\n",
        "3. Select the SSH configuration file to update, copy the conguration information you get after running the above cell into the selected SSH configuration file. The conguration information should be similar to\n",
        "```\n",
        "Host google_colab_ssh\n",
        "\t\tHostName X.tcp.ngrok.io\n",
        "\t\tUser root\n",
        "\t\tPort XXXXX\n",
        "```\n",
        "Then save this configuration file.\n",
        "\n",
        "4. Click on `View > Command Palette` (or use `Shift+Command+P`) again and type `Remote-SSH: Connect to Host...`. You should see the host `google_colab_ssh` you just added. Click it and Visual Studio will automatically open a new window for you, and prompt for the SSH password you set.\n",
        "\n",
        "5. Enter your SSH password you just set and you will be connected to the remote.\n",
        "\n",
        "6. Open folder `/content/drive/MyDrive/plato/`."
      ]
    },
    {
      "cell_type": "markdown",
      "metadata": {
        "id": "TXmC92xX_BeG"
      },
      "source": [
        "## 3. Set the conda environment for running Plato\n",
        "\n",
        "Download [Miniconda](https://docs.conda.io/en/latest/miniconda.html#linux-installers) Linux installers (Python 3.8) on your local computer and upload it to your Google drive. For example, I put it under `/content/drive/MyDrive`. \n",
        "\n",
        "Open the integrated terminal in Visual Studio Code and use the following command to install Minicoda:\n",
        "\n",
        "```shell\n",
        "$ bash /content/drive/MyDrive/Miniconda3-latest-Linux-x86_64.sh\n",
        "```\n",
        "\n",
        "When it prompts\n",
        "```\n",
        "Miniconda3 will now be installed into this location:\n",
        "/root/miniconda3\n",
        "\n",
        "  - Press ENTER to confirm the location\n",
        "  - Press CTRL-C to abort the installation\n",
        "  - Or specify a different location below\n",
        "\n",
        "[/root/miniconda3] >>> \n",
        "```\n",
        "\n",
        "type \n",
        "```\n",
        "/content/drive/MyDrive/miniconda3\n",
        "```\n",
        "and hit Enter. Here we install Miniconda on your own drive, instead of on the remote instance, so that all conda environments created by you in the future will also be installed on your drive.\n",
        "\n",
        "\n",
        "After installation, create a new `conda` environment with Python 3.8 using the command:\n",
        "\n",
        "```shell\n",
        "$ conda update conda\n",
        "$ conda create -n federated python=3.8\n",
        "$ conda activate federated\n",
        "```\n",
        "\n",
        "where `federated` is the preferred name of your new environment. Update any packages, if necessary by typing `y` to proceed.\n",
        "\n",
        "The next step is to install Plato as a pip package, and torch:\n",
        "\n",
        "```shell\n",
        "$ pip install .\n",
        "$ pip install torch torchvision\n",
        "```\n"
      ]
    },
    {
      "cell_type": "markdown",
      "metadata": {
        "id": "KbBwlZCJ9mvN"
      },
      "source": [
        "# Later\n",
        "\n",
        "When you connect to the remote virtual machine after the first time, run the following cell to avoid getting disconnected first."
      ]
    },
    {
      "cell_type": "code",
      "metadata": {
        "id": "BGBFt656Pubj"
      },
      "source": [
        "%%javascript\n",
        "function ClickConnect(){\n",
        "console.log(\"Working\");\n",
        "document.querySelector(\"colab-toolbar-button#connect\").click()\n",
        "}setInterval(ClickConnect,60000)"
      ],
      "execution_count": null,
      "outputs": []
    },
    {
      "cell_type": "markdown",
      "metadata": {
        "id": "EKEZ-fEeW_eT"
      },
      "source": [
        "Same old step: produce an SSH configuration and connect to this Colab instance. "
      ]
    },
    {
      "cell_type": "code",
      "metadata": {
        "id": "Mn_Ig3CrPfIe"
      },
      "source": [
        "from google.colab import drive\n",
        "drive.mount('/content/drive')\n",
        "root_path = '/content/drive/My\\ Drive'\n",
        "%cd $root_path\n",
        "!chmod -R ugo+rx $root_path/ngrok\n",
        "!chmod -R ugo+rx $root_path/plato/run"
      ],
      "execution_count": null,
      "outputs": []
    },
    {
      "cell_type": "code",
      "metadata": {
        "id": "ar_bJSovP0PA"
      },
      "source": [
        "!pip install colab_ssh --upgrade\n",
        "\n",
        "from getpass import getpass\n",
        "ngrok_token = getpass('Your authentication token: ')\n",
        "password = getpass('The SSH password that you want to set (optional): ')\n",
        "\n",
        "from colab_ssh import launch_ssh, init_git\n",
        "launch_ssh(ngrok_token, password)"
      ],
      "execution_count": null,
      "outputs": []
    },
    {
      "cell_type": "markdown",
      "metadata": {
        "id": "IhjCJzbiZ6Ly"
      },
      "source": [
        "After connecting to the remote instance, run"
      ]
    },
    {
      "cell_type": "code",
      "metadata": {
        "id": "5kqLHLLkQIno"
      },
      "source": [
        "f = open(\"/root/.bashrc\", \"a\")\n",
        "f.write(\"\"\"\n",
        "# >>> conda initialize >>>\n",
        "# !! Contents within this block are managed by 'conda init' !!\n",
        "__conda_setup=\"$('/content/drive/MyDrive/miniconda3/bin/conda' 'shell.bash' 'hook' 2> /dev/null)\"\n",
        "if [ $? -eq 0 ]; then\n",
        "    eval \"$__conda_setup\"\n",
        "else\n",
        "    if [ -f \"/content/drive/MyDrive/miniconda3/etc/profile.d/conda.sh\" ]; then\n",
        "        . \"/content/drive/MyDrive/miniconda3/etc/profile.d/conda.sh\"\n",
        "    else\n",
        "        export PATH=\"/content/drive/MyDrive/miniconda3/bin:$PATH\"\n",
        "    fi\n",
        "fi\n",
        "unset __conda_setup\n",
        "# <<< conda initialize <<<\n",
        "alias plato='conda activate federated'\n",
        "\"\"\")\n",
        "f.close()\n",
        "\n",
        "!mkdir /root/.conda/\n",
        "f = open(\"/root/.conda/environments.txt\", \"w\")\n",
        "f.write(\"\"\"/content/drive/MyDrive/miniconda3\n",
        "/content/drive/MyDrive/miniconda3/envs/federated\n",
        "\"\"\")\n",
        "f.close()\n",
        "\n",
        "!chmod -R ugo+rx /content/drive/MyDrive/miniconda3/bin\n",
        "!chmod -R ugo+rx /content/drive/MyDrive/miniconda3/envs/federated/\n"
      ],
      "execution_count": null,
      "outputs": []
    },
    {
      "cell_type": "markdown",
      "metadata": {
        "id": "PErLXFcvaGWp"
      },
      "source": [
        "Then go back to the integrated terminal in Visual Studio Code and type:\n",
        "\n",
        "```shell\n",
        "$ source /root/.bashrc\n",
        "```\n",
        "\n",
        "This may take a while. Please wait until you see `(federated)` at the beginning of the next prompt.\n",
        "\n",
        "And finally, you can activate your environment `federated` to run *Plato*:\n",
        "\n",
        "```shell\n",
        "$ plato\n",
        "```\n"
      ]
    }
  ]
}